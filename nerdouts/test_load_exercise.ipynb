{
 "cells": [
  {
   "cell_type": "code",
   "execution_count": 3,
   "metadata": {},
   "outputs": [],
   "source": [
    "import enum\n",
    "from models import Exercise, WorkoutExercise, Base\n",
    "\n",
    "from config import Config\n",
    "from sqlalchemy.orm import Session\n",
    "from sqlalchemy import create_engine\n",
    "\n",
    "engine = create_engine('sqlite:///:memory:')\n"
   ]
  },
  {
   "cell_type": "code",
   "execution_count": 4,
   "metadata": {},
   "outputs": [],
   "source": [
    "Base.metadata.create_all(engine)\n",
    "\n",
    "\n",
    "# This Exercise object comes from the database:\n",
    "session = Session(engine)\n",
    "\n",
    "db_exercise = session.query(Exercise).filter_by(name=\"Curls\").first()\n",
    "\n",
    "# This one is created from JSON data:\n",
    "json_exercise = Exercise(name=\"Curls\", category_id=\"strength\")\n",
    "\n",
    "# This works - SQLAlchemy can track the object and its relationships\n",
    "workout_exercise1 = WorkoutExercise(exercise=db_exercise)  \n",
    "\n",
    "# This fails - SQLAlchemy doesn't recognize the object as something it can track\n",
    "workout_exercise2 = WorkoutExercise(exercise=json_exercise)  # Raises AssertionError"
   ]
  },
  {
   "cell_type": "code",
   "execution_count": null,
   "metadata": {},
   "outputs": [
    {
     "data": {
      "text/plain": [
       "<models.WorkoutExercise at 0x1081f21d0>"
      ]
     },
     "execution_count": 5,
     "metadata": {},
     "output_type": "execute_result"
    }
   ],
   "source": [
    "workout_exercise2"
   ]
  },
  {
   "cell_type": "code",
   "execution_count": null,
   "metadata": {},
   "outputs": [],
   "source": []
  }
 ],
 "metadata": {
  "kernelspec": {
   "display_name": "vendor",
   "language": "python",
   "name": "python3"
  },
  "language_info": {
   "codemirror_mode": {
    "name": "ipython",
    "version": 3
   },
   "file_extension": ".py",
   "mimetype": "text/x-python",
   "name": "python",
   "nbconvert_exporter": "python",
   "pygments_lexer": "ipython3",
   "version": "3.11.6"
  }
 },
 "nbformat": 4,
 "nbformat_minor": 2
}
